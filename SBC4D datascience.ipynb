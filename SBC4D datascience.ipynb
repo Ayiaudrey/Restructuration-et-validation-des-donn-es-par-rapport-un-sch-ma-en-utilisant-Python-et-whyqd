{
 "cells": [
  {
   "cell_type": "markdown",
   "metadata": {},
   "source": [
    "### Création d'un schema"
   ]
  },
  {
   "cell_type": "code",
   "execution_count": 2,
   "metadata": {},
   "outputs": [],
   "source": [
    "import hashlib"
   ]
  },
  {
   "cell_type": "code",
   "execution_count": 3,
   "metadata": {},
   "outputs": [],
   "source": [
    "import whyqd as _w"
   ]
  },
  {
   "cell_type": "code",
   "execution_count": 4,
   "metadata": {},
   "outputs": [],
   "source": [
    "schema = _w.Schema()"
   ]
  },
  {
   "cell_type": "code",
   "execution_count": 5,
   "metadata": {},
   "outputs": [],
   "source": [
    "details = {\n",
    "        \"name\": \"child_and_demography\",\n",
    "        \"title\": \"Inequalities in maternal and child health\",\n",
    "        \"description\": \"\"\"This table presents data for developing countries based on data from DHS conducted since 1990.\n",
    "       Quintiles are defined by socioeconomic status in terms of assets or wealth, rather than in terms of income or consumption.\n",
    "       For details, see Macro International. 2007b\"\"\"\n",
    "}\n",
    "schema = _w.Schema()\n",
    "schema.set_details(**details)"
   ]
  },
  {
   "cell_type": "code",
   "execution_count": 6,
   "metadata": {},
   "outputs": [
    {
     "data": {
      "text/plain": [
       "{'name': 'child_and_demography',\n",
       " 'title': 'Inequalities in maternal and child health',\n",
       " 'description': 'This table presents data for developing countries based on data from DHS conducted since 1990.\\n       Quintiles are defined by socioeconomic status in terms of assets or wealth, rather than in terms of income or consumption.\\n       For details, see Macro International. 2007b'}"
      ]
     },
     "execution_count": 6,
     "metadata": {},
     "output_type": "execute_result"
    }
   ],
   "source": [
    "details"
   ]
  },
  {
   "cell_type": "code",
   "execution_count": 7,
   "metadata": {},
   "outputs": [],
   "source": [
    "fields = [\n",
    "    { \n",
    "        \"name\": \"Rang_IDH\",\n",
    "        \"title\": \"Rang_IDH\",\n",
    "        \"type\": \"integer\",\n",
    "        \"description\": \"Classement des pays selon leur niveau de l'IDH.\"\n",
    "    },\n",
    "  \n",
    "    {\n",
    "        \"name\": \"Country\",\n",
    "        \"title\": \"Country\",\n",
    "        \"type\": \"string\",\n",
    "        \"description\": \"Nom de chaque pays.\"\n",
    "    },\n",
    "        \n",
    "    {\n",
    "        \"name\": \"Survey_year\",\n",
    "        \"title\": \"Survey_year\",\n",
    "        \"type\": \"year\",\n",
    "        \"description\": \"year of survey for every country.\" \n",
    "        \n",
    "    },\n",
    "       \n",
    "    {\n",
    "        \"name\": \"HDI Category\",\n",
    "        \"title\": \"HDI Category\",\n",
    "        \"type\": \"string\",\n",
    "        \"description\": \"Human Development Index Category derived from the HDI Rank.\"\n",
    "    },\n",
    "    {\n",
    "        \"name\": \"Indicator Name\",\n",
    "        \"title\": \"Indicator Name\",\n",
    "        \"type\": \"string\",\n",
    "        \"description\": \"Indicator described in the data series.\"\n",
    "    },\n",
    "        \n",
    "    {\n",
    "        \"name\": \"Reference\",\n",
    "        \"title\": \"Reference\",\n",
    "        \"type\": \"string\",\n",
    "        \"description\": \"Reference to data source.\"\n",
    "    },\n",
    "   \n",
    "    {\n",
    "        \"name\": \"Values\",\n",
    "        \"title\": \"Values\",\n",
    "        \"type\": \"number\",\n",
    "        \"description\": \"Value for the Year and Indicator Name.\"\n",
    "    }\n",
    "]\n"
   ]
  },
  {
   "cell_type": "code",
   "execution_count": 8,
   "metadata": {},
   "outputs": [],
   "source": [
    "for field in fields:\n",
    "    schema.set_field(**field)"
   ]
  },
  {
   "cell_type": "code",
   "execution_count": 9,
   "metadata": {},
   "outputs": [
    {
     "data": {
      "text/plain": [
       "[{'name': 'Rang_IDH',\n",
       "  'title': 'Rang_IDH',\n",
       "  'type': 'integer',\n",
       "  'description': \"Classement des pays selon leur niveau de l'IDH.\"},\n",
       " {'name': 'Country',\n",
       "  'title': 'Country',\n",
       "  'type': 'string',\n",
       "  'description': 'Nom de chaque pays.'},\n",
       " {'name': 'Survey_year',\n",
       "  'title': 'Survey_year',\n",
       "  'type': 'year',\n",
       "  'description': 'year of survey for every country.'},\n",
       " {'name': 'HDI Category',\n",
       "  'title': 'HDI Category',\n",
       "  'type': 'string',\n",
       "  'description': 'Human Development Index Category derived from the HDI Rank.'},\n",
       " {'name': 'Indicator Name',\n",
       "  'title': 'Indicator Name',\n",
       "  'type': 'string',\n",
       "  'description': 'Indicator described in the data series.'},\n",
       " {'name': 'Reference',\n",
       "  'title': 'Reference',\n",
       "  'type': 'string',\n",
       "  'description': 'Reference to data source.'},\n",
       " {'name': 'Values',\n",
       "  'title': 'Values',\n",
       "  'type': 'number',\n",
       "  'description': 'Value for the Year and Indicator Name.'}]"
      ]
     },
     "execution_count": 9,
     "metadata": {},
     "output_type": "execute_result"
    }
   ],
   "source": [
    "fields"
   ]
  },
  {
   "cell_type": "code",
   "execution_count": 10,
   "metadata": {},
   "outputs": [
    {
     "data": {
      "text/plain": [
       "{'name': 'country',\n",
       " 'type': 'string',\n",
       " 'title': 'Country',\n",
       " 'description': 'Nom de chaque pays.'}"
      ]
     },
     "execution_count": 10,
     "metadata": {},
     "output_type": "execute_result"
    }
   ],
   "source": [
    "schema.field(\"country\")"
   ]
  },
  {
   "cell_type": "code",
   "execution_count": 11,
   "metadata": {},
   "outputs": [
    {
     "data": {
      "text/plain": [
       "{'name': 'survey_year',\n",
       " 'type': 'year',\n",
       " 'title': 'Survey_year',\n",
       " 'description': 'year of survey for every country.'}"
      ]
     },
     "execution_count": 11,
     "metadata": {},
     "output_type": "execute_result"
    }
   ],
   "source": [
    "schema.field(\"survey_year\")"
   ]
  },
  {
   "cell_type": "code",
   "execution_count": 12,
   "metadata": {},
   "outputs": [
    {
     "data": {
      "text/plain": [
       "True"
      ]
     },
     "execution_count": 12,
     "metadata": {},
     "output_type": "execute_result"
    }
   ],
   "source": [
    "directory = \"C:/Users/AUDREY/\"\n",
    "# vous pouvez également spécifier un nom de fichier facultatif\n",
    "# si vous l'omettez, le nom du fichier sera par défaut le nom du schéma\n",
    "filename = \"child-and-demographie\"\n",
    "# si le fichier existe déjà, vous devrez spécifier \"overwrite=True\" sinon vous obtiendrez une erreur\n",
    "schema.save(directory, filename=filename, overwrite=True)"
   ]
  },
  {
   "cell_type": "markdown",
   "metadata": {},
   "source": [
    "### Création d'une méthode"
   ]
  },
  {
   "cell_type": "code",
   "execution_count": 13,
   "metadata": {},
   "outputs": [
    {
     "data": {
      "text/html": [
       "<style>pre { white-space: pre !important; }</style>"
      ],
      "text/plain": [
       "<IPython.core.display.HTML object>"
      ]
     },
     "metadata": {},
     "output_type": "display_data"
    }
   ],
   "source": [
    "### Les importations et paramètres suivants vous permettent d'obtenir un large éventail de résultats pour vos tableaux\n",
    "from IPython.core.display import HTML\n",
    "display(HTML(\"<style>pre { white-space: pre !important; }</style>\"))\n",
    "\n",
    "import numpy as np\n",
    "import whyqd as _w\n",
    "\n",
    "SCHEMA_SOURCE = \"C:/Users/AUDREY/child-and-demographie.json\"\n",
    "DIRECTORY = \"C:/Users/AUDREY/\"\n",
    "INPUT_DATA = [\n",
    "    \"C:/Users/AUDREY/sbc4d/HDR 2007-2008 Table 08.xlsx\"\n",
    "]\n",
    "method = _w.Method(SCHEMA_SOURCE, directory=DIRECTORY, input_data=INPUT_DATA)"
   ]
  },
  {
   "cell_type": "code",
   "execution_count": 14,
   "metadata": {},
   "outputs": [
    {
     "name": "stdout",
     "output_type": "stream",
     "text": [
      "\n",
      "\n",
      "Data id: 81a21b07-7f31-4fd6-b57a-a0c928041362\n",
      "Original source: C:/Users/AUDREY/sbc4d/HDR 2007-2008 Table 08.xlsx\n",
      "\n",
      "====  ============  =================================  ============  ============  ============  ============  ============  ============  ============  ============  =============  =============  =============  =============  =============  =============  =============  =============  =============  =============  =============  =============  =============  =============  =============\n",
      "  ..    Unnamed: 0  Unnamed: 1                           Unnamed: 2    Unnamed: 3    Unnamed: 4    Unnamed: 5    Unnamed: 6    Unnamed: 7    Unnamed: 8    Unnamed: 9    Unnamed: 10    Unnamed: 11    Unnamed: 12    Unnamed: 13    Unnamed: 14    Unnamed: 15    Unnamed: 16    Unnamed: 17    Unnamed: 18    Unnamed: 19    Unnamed: 20    Unnamed: 21    Unnamed: 22    Unnamed: 23    Unnamed: 24\n",
      "====  ============  =================================  ============  ============  ============  ============  ============  ============  ============  ============  =============  =============  =============  =============  =============  =============  =============  =============  =============  =============  =============  =============  =============  =============  =============\n",
      "   0           nan  nan                                         nan           nan           nan           nan           nan           nan           nan           nan            nan            nan            nan            nan            nan            nan            nan            nan            nan            nan            nan            nan            nan            nan            nan\n",
      "   1           nan  …to lead a long and healthy life…           nan           nan           nan           nan           nan           nan           nan           nan            nan            nan            nan            nan            nan            nan            nan            nan            nan            nan            nan            nan            nan            nan            nan\n",
      "   2           nan  nan                                         nan           nan           nan           nan           nan           nan           nan           nan            nan            nan            nan            nan            nan            nan            nan            nan            nan            nan            nan            nan            nan            nan            nan\n",
      "====  ============  =================================  ============  ============  ============  ============  ============  ============  ============  ============  =============  =============  =============  =============  =============  =============  =============  =============  =============  =============  =============  =============  =============  =============  =============\n",
      "\n"
     ]
    }
   ],
   "source": [
    "print(method.print_input_data())"
   ]
  },
  {
   "cell_type": "code",
   "execution_count": 15,
   "metadata": {},
   "outputs": [
    {
     "data": {
      "text/plain": [
       "['CATEGORISE', 'DEBLANK', 'DEDUPE', 'DELETE', 'MELT', 'REBASE', 'RENAME']"
      ]
     },
     "execution_count": 15,
     "metadata": {},
     "output_type": "execute_result"
    }
   ],
   "source": [
    "method.default_morph_types"
   ]
  },
  {
   "cell_type": "code",
   "execution_count": 16,
   "metadata": {},
   "outputs": [
    {
     "data": {
      "text/plain": [
       "{'name': 'CATEGORISE',\n",
       " 'title': 'Categorise',\n",
       " 'type': 'morph',\n",
       " 'description': 'Convert row-level categories into column categorisations.',\n",
       " 'structure': ['rows', 'column_names']}"
      ]
     },
     "execution_count": 16,
     "metadata": {},
     "output_type": "execute_result"
    }
   ],
   "source": [
    "# A titre d'exemple :\n",
    "method.default_morph_settings(\"CATEGORISE\")"
   ]
  },
  {
   "cell_type": "code",
   "execution_count": 17,
   "metadata": {},
   "outputs": [
    {
     "data": {
      "text/html": [
       "<div>\n",
       "<style scoped>\n",
       "    .dataframe tbody tr th:only-of-type {\n",
       "        vertical-align: middle;\n",
       "    }\n",
       "\n",
       "    .dataframe tbody tr th {\n",
       "        vertical-align: top;\n",
       "    }\n",
       "\n",
       "    .dataframe thead th {\n",
       "        text-align: right;\n",
       "    }\n",
       "</style>\n",
       "<table border=\"1\" class=\"dataframe\">\n",
       "  <thead>\n",
       "    <tr style=\"text-align: right;\">\n",
       "      <th></th>\n",
       "      <th>Unnamed: 0</th>\n",
       "      <th>Unnamed: 1</th>\n",
       "      <th>Unnamed: 2</th>\n",
       "      <th>Unnamed: 3</th>\n",
       "      <th>Unnamed: 4</th>\n",
       "      <th>Unnamed: 5</th>\n",
       "      <th>Unnamed: 6</th>\n",
       "      <th>Unnamed: 7</th>\n",
       "      <th>Unnamed: 8</th>\n",
       "      <th>Unnamed: 9</th>\n",
       "      <th>...</th>\n",
       "      <th>Unnamed: 15</th>\n",
       "      <th>Unnamed: 16</th>\n",
       "      <th>Unnamed: 17</th>\n",
       "      <th>Unnamed: 18</th>\n",
       "      <th>Unnamed: 19</th>\n",
       "      <th>Unnamed: 20</th>\n",
       "      <th>Unnamed: 21</th>\n",
       "      <th>Unnamed: 22</th>\n",
       "      <th>Unnamed: 23</th>\n",
       "      <th>Unnamed: 24</th>\n",
       "    </tr>\n",
       "  </thead>\n",
       "  <tbody>\n",
       "    <tr>\n",
       "      <th>0</th>\n",
       "      <td>NaN</td>\n",
       "      <td>NaN</td>\n",
       "      <td>NaN</td>\n",
       "      <td>NaN</td>\n",
       "      <td>NaN</td>\n",
       "      <td>NaN</td>\n",
       "      <td>NaN</td>\n",
       "      <td>NaN</td>\n",
       "      <td>NaN</td>\n",
       "      <td>NaN</td>\n",
       "      <td>...</td>\n",
       "      <td>NaN</td>\n",
       "      <td>NaN</td>\n",
       "      <td>NaN</td>\n",
       "      <td>NaN</td>\n",
       "      <td>NaN</td>\n",
       "      <td>NaN</td>\n",
       "      <td>NaN</td>\n",
       "      <td>NaN</td>\n",
       "      <td>NaN</td>\n",
       "      <td>NaN</td>\n",
       "    </tr>\n",
       "    <tr>\n",
       "      <th>1</th>\n",
       "      <td>NaN</td>\n",
       "      <td>…to lead a long and healthy life…</td>\n",
       "      <td>NaN</td>\n",
       "      <td>NaN</td>\n",
       "      <td>NaN</td>\n",
       "      <td>NaN</td>\n",
       "      <td>NaN</td>\n",
       "      <td>NaN</td>\n",
       "      <td>NaN</td>\n",
       "      <td>NaN</td>\n",
       "      <td>...</td>\n",
       "      <td>NaN</td>\n",
       "      <td>NaN</td>\n",
       "      <td>NaN</td>\n",
       "      <td>NaN</td>\n",
       "      <td>NaN</td>\n",
       "      <td>NaN</td>\n",
       "      <td>NaN</td>\n",
       "      <td>NaN</td>\n",
       "      <td>NaN</td>\n",
       "      <td>NaN</td>\n",
       "    </tr>\n",
       "    <tr>\n",
       "      <th>2</th>\n",
       "      <td>NaN</td>\n",
       "      <td>NaN</td>\n",
       "      <td>NaN</td>\n",
       "      <td>NaN</td>\n",
       "      <td>NaN</td>\n",
       "      <td>NaN</td>\n",
       "      <td>NaN</td>\n",
       "      <td>NaN</td>\n",
       "      <td>NaN</td>\n",
       "      <td>NaN</td>\n",
       "      <td>...</td>\n",
       "      <td>NaN</td>\n",
       "      <td>NaN</td>\n",
       "      <td>NaN</td>\n",
       "      <td>NaN</td>\n",
       "      <td>NaN</td>\n",
       "      <td>NaN</td>\n",
       "      <td>NaN</td>\n",
       "      <td>NaN</td>\n",
       "      <td>NaN</td>\n",
       "      <td>NaN</td>\n",
       "    </tr>\n",
       "    <tr>\n",
       "      <th>3</th>\n",
       "      <td>NaN</td>\n",
       "      <td>NaN</td>\n",
       "      <td>NaN</td>\n",
       "      <td>NaN</td>\n",
       "      <td>NaN</td>\n",
       "      <td>NaN</td>\n",
       "      <td>NaN</td>\n",
       "      <td>NaN</td>\n",
       "      <td>NaN</td>\n",
       "      <td>NaN</td>\n",
       "      <td>...</td>\n",
       "      <td>NaN</td>\n",
       "      <td>NaN</td>\n",
       "      <td>NaN</td>\n",
       "      <td>NaN</td>\n",
       "      <td>NaN</td>\n",
       "      <td>NaN</td>\n",
       "      <td>NaN</td>\n",
       "      <td>NaN</td>\n",
       "      <td>NaN</td>\n",
       "      <td>NaN</td>\n",
       "    </tr>\n",
       "    <tr>\n",
       "      <th>4</th>\n",
       "      <td>NaN</td>\n",
       "      <td>NaN</td>\n",
       "      <td>NaN</td>\n",
       "      <td>NaN</td>\n",
       "      <td>NaN</td>\n",
       "      <td>NaN</td>\n",
       "      <td>NaN</td>\n",
       "      <td>NaN</td>\n",
       "      <td>NaN</td>\n",
       "      <td>NaN</td>\n",
       "      <td>...</td>\n",
       "      <td>NaN</td>\n",
       "      <td>NaN</td>\n",
       "      <td>NaN</td>\n",
       "      <td>NaN</td>\n",
       "      <td>NaN</td>\n",
       "      <td>NaN</td>\n",
       "      <td>NaN</td>\n",
       "      <td>NaN</td>\n",
       "      <td>NaN</td>\n",
       "      <td>NaN</td>\n",
       "    </tr>\n",
       "  </tbody>\n",
       "</table>\n",
       "<p>5 rows × 25 columns</p>\n",
       "</div>"
      ],
      "text/plain": [
       "  Unnamed: 0                         Unnamed: 1 Unnamed: 2 Unnamed: 3  \\\n",
       "0        NaN                                NaN        NaN        NaN   \n",
       "1        NaN  …to lead a long and healthy life…        NaN        NaN   \n",
       "2        NaN                                NaN        NaN        NaN   \n",
       "3        NaN                                NaN        NaN        NaN   \n",
       "4        NaN                                NaN        NaN        NaN   \n",
       "\n",
       "  Unnamed: 4 Unnamed: 5 Unnamed: 6 Unnamed: 7 Unnamed: 8 Unnamed: 9  ...  \\\n",
       "0        NaN        NaN        NaN        NaN        NaN        NaN  ...   \n",
       "1        NaN        NaN        NaN        NaN        NaN        NaN  ...   \n",
       "2        NaN        NaN        NaN        NaN        NaN        NaN  ...   \n",
       "3        NaN        NaN        NaN        NaN        NaN        NaN  ...   \n",
       "4        NaN        NaN        NaN        NaN        NaN        NaN  ...   \n",
       "\n",
       "  Unnamed: 15 Unnamed: 16 Unnamed: 17 Unnamed: 18 Unnamed: 19 Unnamed: 20  \\\n",
       "0         NaN         NaN         NaN         NaN         NaN         NaN   \n",
       "1         NaN         NaN         NaN         NaN         NaN         NaN   \n",
       "2         NaN         NaN         NaN         NaN         NaN         NaN   \n",
       "3         NaN         NaN         NaN         NaN         NaN         NaN   \n",
       "4         NaN         NaN         NaN         NaN         NaN         NaN   \n",
       "\n",
       "  Unnamed: 21 Unnamed: 22 Unnamed: 23 Unnamed: 24  \n",
       "0         NaN         NaN         NaN         NaN  \n",
       "1         NaN         NaN         NaN         NaN  \n",
       "2         NaN         NaN         NaN         NaN  \n",
       "3         NaN         NaN         NaN         NaN  \n",
       "4         NaN         NaN         NaN         NaN  \n",
       "\n",
       "[5 rows x 25 columns]"
      ]
     },
     "execution_count": 17,
     "metadata": {},
     "output_type": "execute_result"
    }
   ],
   "source": [
    "# Utilisez _id, ou une autre variable, puisque `id` est un terme protégé par Python\n",
    "_id = method.input_data[0][\"id\"]\n",
    "df = method.input_dataframe(_id)\n",
    "df.head()"
   ]
  },
  {
   "cell_type": "code",
   "execution_count": 18,
   "metadata": {},
   "outputs": [],
   "source": [
    "method.reset_input_data_morph(_id)"
   ]
  },
  {
   "cell_type": "code",
   "execution_count": 19,
   "metadata": {},
   "outputs": [],
   "source": [
    "method.add_input_data_morph(_id, [\"REBASE\", 11])"
   ]
  },
  {
   "cell_type": "code",
   "execution_count": null,
   "metadata": {},
   "outputs": [],
   "source": [
    "df"
   ]
  },
  {
   "cell_type": "code",
   "execution_count": 20,
   "metadata": {},
   "outputs": [],
   "source": [
    "# On obtient la valeur du dernier élément de l'index, puis on ajoute 1 pour créer l'intervalle\n",
    "rows = [int(i) for i in np.arange(86, df.index[-1]+1)]\n",
    "method.add_input_data_morph(_id, [\"DELETE\", rows])"
   ]
  },
  {
   "cell_type": "code",
   "execution_count": 21,
   "metadata": {},
   "outputs": [],
   "source": [
    "columns = [\n",
    "    \"Rang_IDH\",\n",
    "    \"Country\",\n",
    "    \"Reference 1\",\n",
    "    \"Survey_year\",\n",
    "    \"Birth_attended_Poor\",\n",
    "    \"Birth_attended_Rich\",\n",
    "    \"One-year-olds  immunized_Poor\",\n",
    "    \"Reference 2\",\n",
    "    \"One-year-olds  immunized_Rich\",\n",
    "    \"Reference 3\",\n",
    "    \"Child_underheight_ Poor\",\n",
    "    \"Child_underheight_ Rich\",\n",
    "    \"IMR_Poor\",\n",
    "    \"Reference 4\",\n",
    "    \"IMR_Rich\",\n",
    "    \"Reference 5\",\n",
    "    \"Under5_MR_Poor\",\n",
    "    \"Reference 6\",\n",
    "    \"Under5_MR_Rich\",\n",
    "    \"Reference 7\",\n",
    "]\n",
    "method.add_input_data_morph(_id, [\"RENAME\", columns])"
   ]
  },
  {
   "cell_type": "code",
   "execution_count": 22,
   "metadata": {},
   "outputs": [
    {
     "data": {
      "text/html": [
       "<div>\n",
       "<style scoped>\n",
       "    .dataframe tbody tr th:only-of-type {\n",
       "        vertical-align: middle;\n",
       "    }\n",
       "\n",
       "    .dataframe tbody tr th {\n",
       "        vertical-align: top;\n",
       "    }\n",
       "\n",
       "    .dataframe thead th {\n",
       "        text-align: right;\n",
       "    }\n",
       "</style>\n",
       "<table border=\"1\" class=\"dataframe\">\n",
       "  <thead>\n",
       "    <tr style=\"text-align: right;\">\n",
       "      <th></th>\n",
       "      <th>Rang_IDH</th>\n",
       "      <th>Country</th>\n",
       "      <th>Reference 1</th>\n",
       "      <th>Survey_year</th>\n",
       "      <th>Birth_attended_Poor</th>\n",
       "      <th>Birth_attended_Rich</th>\n",
       "      <th>One-year-olds  immunized_Poor</th>\n",
       "      <th>Reference 2</th>\n",
       "      <th>One-year-olds  immunized_Rich</th>\n",
       "      <th>Reference 3</th>\n",
       "      <th>Child_underheight_ Poor</th>\n",
       "      <th>Child_underheight_ Rich</th>\n",
       "      <th>IMR_Poor</th>\n",
       "      <th>Reference 4</th>\n",
       "      <th>IMR_Rich</th>\n",
       "      <th>Reference 5</th>\n",
       "      <th>Under5_MR_Poor</th>\n",
       "      <th>Reference 6</th>\n",
       "      <th>Under5_MR_Rich</th>\n",
       "      <th>Reference 7</th>\n",
       "    </tr>\n",
       "  </thead>\n",
       "  <tbody>\n",
       "    <tr>\n",
       "      <th>12</th>\n",
       "      <td>HIGH HUMAN DEVELOPMENT</td>\n",
       "      <td>NaN</td>\n",
       "      <td>NaN</td>\n",
       "      <td>NaN</td>\n",
       "      <td>NaN</td>\n",
       "      <td>NaN</td>\n",
       "      <td>NaN</td>\n",
       "      <td>NaN</td>\n",
       "      <td>NaN</td>\n",
       "      <td>NaN</td>\n",
       "      <td>NaN</td>\n",
       "      <td>NaN</td>\n",
       "      <td>NaN</td>\n",
       "      <td>NaN</td>\n",
       "      <td>NaN</td>\n",
       "      <td>NaN</td>\n",
       "      <td>NaN</td>\n",
       "      <td>NaN</td>\n",
       "      <td>NaN</td>\n",
       "      <td>NaN</td>\n",
       "    </tr>\n",
       "    <tr>\n",
       "      <th>13</th>\n",
       "      <td>70</td>\n",
       "      <td>Brazil</td>\n",
       "      <td>NaN</td>\n",
       "      <td>1996</td>\n",
       "      <td>72</td>\n",
       "      <td>99</td>\n",
       "      <td>57</td>\n",
       "      <td>NaN</td>\n",
       "      <td>74</td>\n",
       "      <td>NaN</td>\n",
       "      <td>23</td>\n",
       "      <td>2</td>\n",
       "      <td>83</td>\n",
       "      <td>NaN</td>\n",
       "      <td>29</td>\n",
       "      <td>NaN</td>\n",
       "      <td>99</td>\n",
       "      <td>NaN</td>\n",
       "      <td>33</td>\n",
       "      <td>NaN</td>\n",
       "    </tr>\n",
       "    <tr>\n",
       "      <th>14</th>\n",
       "      <td>MEDIUM HUMAN DEVELOPMENT</td>\n",
       "      <td>NaN</td>\n",
       "      <td>NaN</td>\n",
       "      <td>NaN</td>\n",
       "      <td>NaN</td>\n",
       "      <td>NaN</td>\n",
       "      <td>NaN</td>\n",
       "      <td>NaN</td>\n",
       "      <td>NaN</td>\n",
       "      <td>NaN</td>\n",
       "      <td>NaN</td>\n",
       "      <td>NaN</td>\n",
       "      <td>NaN</td>\n",
       "      <td>NaN</td>\n",
       "      <td>NaN</td>\n",
       "      <td>NaN</td>\n",
       "      <td>NaN</td>\n",
       "      <td>NaN</td>\n",
       "      <td>NaN</td>\n",
       "      <td>NaN</td>\n",
       "    </tr>\n",
       "    <tr>\n",
       "      <th>15</th>\n",
       "      <td>73</td>\n",
       "      <td>Kazakhstan</td>\n",
       "      <td>NaN</td>\n",
       "      <td>1999</td>\n",
       "      <td>99</td>\n",
       "      <td>99</td>\n",
       "      <td>69</td>\n",
       "      <td>NaN</td>\n",
       "      <td>62</td>\n",
       "      <td>c</td>\n",
       "      <td>15</td>\n",
       "      <td>8</td>\n",
       "      <td>68</td>\n",
       "      <td>NaN</td>\n",
       "      <td>42</td>\n",
       "      <td>NaN</td>\n",
       "      <td>82</td>\n",
       "      <td>NaN</td>\n",
       "      <td>45</td>\n",
       "      <td>NaN</td>\n",
       "    </tr>\n",
       "    <tr>\n",
       "      <th>16</th>\n",
       "      <td>75</td>\n",
       "      <td>Colombia</td>\n",
       "      <td>NaN</td>\n",
       "      <td>2005</td>\n",
       "      <td>72</td>\n",
       "      <td>99</td>\n",
       "      <td>47</td>\n",
       "      <td>NaN</td>\n",
       "      <td>72</td>\n",
       "      <td>NaN</td>\n",
       "      <td>20</td>\n",
       "      <td>3</td>\n",
       "      <td>32</td>\n",
       "      <td>NaN</td>\n",
       "      <td>14</td>\n",
       "      <td>NaN</td>\n",
       "      <td>39</td>\n",
       "      <td>NaN</td>\n",
       "      <td>16</td>\n",
       "      <td>NaN</td>\n",
       "    </tr>\n",
       "  </tbody>\n",
       "</table>\n",
       "</div>"
      ],
      "text/plain": [
       "                    Rang_IDH     Country Reference 1 Survey_year  \\\n",
       "12    HIGH HUMAN DEVELOPMENT         NaN         NaN         NaN   \n",
       "13                        70      Brazil         NaN        1996   \n",
       "14  MEDIUM HUMAN DEVELOPMENT         NaN         NaN         NaN   \n",
       "15                        73  Kazakhstan         NaN        1999   \n",
       "16                        75    Colombia         NaN        2005   \n",
       "\n",
       "   Birth_attended_Poor Birth_attended_Rich One-year-olds  immunized_Poor  \\\n",
       "12                 NaN                 NaN                           NaN   \n",
       "13                  72                  99                            57   \n",
       "14                 NaN                 NaN                           NaN   \n",
       "15                  99                  99                            69   \n",
       "16                  72                  99                            47   \n",
       "\n",
       "   Reference 2 One-year-olds  immunized_Rich Reference 3  \\\n",
       "12         NaN                           NaN         NaN   \n",
       "13         NaN                            74         NaN   \n",
       "14         NaN                           NaN         NaN   \n",
       "15         NaN                            62           c   \n",
       "16         NaN                            72         NaN   \n",
       "\n",
       "   Child_underheight_ Poor Child_underheight_ Rich IMR_Poor Reference 4  \\\n",
       "12                     NaN                     NaN      NaN         NaN   \n",
       "13                      23                       2       83         NaN   \n",
       "14                     NaN                     NaN      NaN         NaN   \n",
       "15                      15                       8       68         NaN   \n",
       "16                      20                       3       32         NaN   \n",
       "\n",
       "   IMR_Rich Reference 5 Under5_MR_Poor Reference 6 Under5_MR_Rich Reference 7  \n",
       "12      NaN         NaN            NaN         NaN            NaN         NaN  \n",
       "13       29         NaN             99         NaN             33         NaN  \n",
       "14      NaN         NaN            NaN         NaN            NaN         NaN  \n",
       "15       42         NaN             82         NaN             45         NaN  \n",
       "16       14         NaN             39         NaN             16         NaN  "
      ]
     },
     "execution_count": 22,
     "metadata": {},
     "output_type": "execute_result"
    }
   ],
   "source": [
    "df = method.input_dataframe(_id)\n",
    "df.head()"
   ]
  },
  {
   "cell_type": "code",
   "execution_count": 23,
   "metadata": {},
   "outputs": [
    {
     "ename": "ValueError",
     "evalue": "Task morph `CATEGORISE` has invalid structure `['rows', 'column_names']`.",
     "output_type": "error",
     "traceback": [
      "\u001b[1;31m---------------------------------------------------------------------------\u001b[0m",
      "\u001b[1;31mValueError\u001b[0m                                Traceback (most recent call last)",
      "\u001b[1;32m<ipython-input-23-41ffd333b672>\u001b[0m in \u001b[0;36m<module>\u001b[1;34m\u001b[0m\n\u001b[0;32m      2\u001b[0m \u001b[0mhdi_categories\u001b[0m \u001b[1;33m=\u001b[0m \u001b[1;33m[\u001b[0m\u001b[1;34m\"HIGH HUMAN DEVELOPMENT\"\u001b[0m\u001b[1;33m,\u001b[0m \u001b[1;34m\"MEDIUM HUMAN DEVELOPMENT\"\u001b[0m\u001b[1;33m,\u001b[0m \u001b[1;34m\"LOW HUMAN DEVELOPMENT\"\u001b[0m\u001b[1;33m]\u001b[0m\u001b[1;33m\u001b[0m\u001b[1;33m\u001b[0m\u001b[0m\n\u001b[0;32m      3\u001b[0m \u001b[0mrows\u001b[0m \u001b[1;33m=\u001b[0m \u001b[0mdf\u001b[0m\u001b[1;33m[\u001b[0m\u001b[0mdf\u001b[0m\u001b[1;33m[\u001b[0m\u001b[1;34m\"Rang_IDH\"\u001b[0m\u001b[1;33m]\u001b[0m\u001b[1;33m.\u001b[0m\u001b[0misin\u001b[0m\u001b[1;33m(\u001b[0m\u001b[0mhdi_categories\u001b[0m\u001b[1;33m)\u001b[0m\u001b[1;33m]\u001b[0m\u001b[1;33m.\u001b[0m\u001b[0mindex\u001b[0m\u001b[1;33m\u001b[0m\u001b[1;33m\u001b[0m\u001b[0m\n\u001b[1;32m----> 4\u001b[1;33m \u001b[0mmethod\u001b[0m\u001b[1;33m.\u001b[0m\u001b[0madd_input_data_morph\u001b[0m\u001b[1;33m(\u001b[0m\u001b[0m_id\u001b[0m\u001b[1;33m,\u001b[0m \u001b[1;33m[\u001b[0m\u001b[1;34m\"CATEGORISE\"\u001b[0m\u001b[1;33m,\u001b[0m \u001b[0mrows\u001b[0m\u001b[1;33m,\u001b[0m \u001b[1;34m\"HDI category\"\u001b[0m\u001b[1;33m]\u001b[0m\u001b[1;33m)\u001b[0m\u001b[1;33m\u001b[0m\u001b[1;33m\u001b[0m\u001b[0m\n\u001b[0m",
      "\u001b[1;32m~\\anaconda\\pythonw\\envs\\Datascience\\lib\\site-packages\\whyqd\\method\\method.py\u001b[0m in \u001b[0;36madd_input_data_morph\u001b[1;34m(self, _id, new_morph)\u001b[0m\n\u001b[0;32m   1128\u001b[0m                         \u001b[0minput_source\u001b[0m \u001b[1;33m=\u001b[0m \u001b[0mself\u001b[0m\u001b[1;33m.\u001b[0m\u001b[0m_get_input_data_morph\u001b[0m\u001b[1;33m(\u001b[0m\u001b[0m_id\u001b[0m\u001b[1;33m)\u001b[0m\u001b[1;33m\u001b[0m\u001b[1;33m\u001b[0m\u001b[0m\n\u001b[0;32m   1129\u001b[0m                 \u001b[0mdf\u001b[0m \u001b[1;33m=\u001b[0m \u001b[0mself\u001b[0m\u001b[1;33m.\u001b[0m\u001b[0minput_dataframe\u001b[0m\u001b[1;33m(\u001b[0m\u001b[0m_id\u001b[0m\u001b[1;33m)\u001b[0m\u001b[1;33m\u001b[0m\u001b[1;33m\u001b[0m\u001b[0m\n\u001b[1;32m-> 1130\u001b[1;33m                 \u001b[0minput_source\u001b[0m\u001b[1;33m[\u001b[0m\u001b[1;34m\"morph\"\u001b[0m\u001b[1;33m]\u001b[0m \u001b[1;33m=\u001b[0m \u001b[0mself\u001b[0m\u001b[1;33m.\u001b[0m\u001b[0madd_morph\u001b[0m\u001b[1;33m(\u001b[0m\u001b[0mdf\u001b[0m\u001b[1;33m=\u001b[0m\u001b[0mdf\u001b[0m\u001b[1;33m,\u001b[0m \u001b[0mnew_morph\u001b[0m\u001b[1;33m=\u001b[0m\u001b[0mnew_morph\u001b[0m\u001b[1;33m,\u001b[0m \u001b[0mmorph_methods\u001b[0m\u001b[1;33m=\u001b[0m\u001b[0minput_source\u001b[0m\u001b[1;33m.\u001b[0m\u001b[0mget\u001b[0m\u001b[1;33m(\u001b[0m\u001b[1;34m\"morph\"\u001b[0m\u001b[1;33m)\u001b[0m\u001b[1;33m)\u001b[0m\u001b[1;33m\u001b[0m\u001b[1;33m\u001b[0m\u001b[0m\n\u001b[0m\u001b[0;32m   1131\u001b[0m                 \u001b[0mself\u001b[0m\u001b[1;33m.\u001b[0m\u001b[0m_set_input_data_morph\u001b[0m\u001b[1;33m(\u001b[0m\u001b[0minput_source\u001b[0m\u001b[1;33m)\u001b[0m\u001b[1;33m\u001b[0m\u001b[1;33m\u001b[0m\u001b[0m\n\u001b[0;32m   1132\u001b[0m \u001b[1;33m\u001b[0m\u001b[0m\n",
      "\u001b[1;32m~\\anaconda\\pythonw\\envs\\Datascience\\lib\\site-packages\\whyqd\\method\\method.py\u001b[0m in \u001b[0;36madd_morph\u001b[1;34m(self, df, new_morph, morph_methods)\u001b[0m\n\u001b[0;32m   1251\u001b[0m                 \u001b[1;32mif\u001b[0m \u001b[1;32mnot\u001b[0m \u001b[0mmorph\u001b[0m\u001b[1;33m.\u001b[0m\u001b[0mvalidates\u001b[0m\u001b[1;33m(\u001b[0m\u001b[0mdf\u001b[0m\u001b[1;33m=\u001b[0m\u001b[0mdf\u001b[0m\u001b[1;33m,\u001b[0m \u001b[1;33m**\u001b[0m\u001b[0mparameters\u001b[0m\u001b[1;33m)\u001b[0m\u001b[1;33m:\u001b[0m\u001b[1;33m\u001b[0m\u001b[1;33m\u001b[0m\u001b[0m\n\u001b[0;32m   1252\u001b[0m                         \u001b[0me\u001b[0m \u001b[1;33m=\u001b[0m \u001b[1;34mF\"Task morph `{morph.name}` has invalid structure `{morph.structure}`.\"\u001b[0m\u001b[1;33m\u001b[0m\u001b[1;33m\u001b[0m\u001b[0m\n\u001b[1;32m-> 1253\u001b[1;33m                         \u001b[1;32mraise\u001b[0m \u001b[0mValueError\u001b[0m\u001b[1;33m(\u001b[0m\u001b[0me\u001b[0m\u001b[1;33m)\u001b[0m\u001b[1;33m\u001b[0m\u001b[1;33m\u001b[0m\u001b[0m\n\u001b[0m\u001b[0;32m   1254\u001b[0m                 \u001b[0mmorph_settings\u001b[0m \u001b[1;33m=\u001b[0m \u001b[0mmorph\u001b[0m\u001b[1;33m.\u001b[0m\u001b[0msettings\u001b[0m\u001b[1;33m\u001b[0m\u001b[1;33m\u001b[0m\u001b[0m\n\u001b[0;32m   1255\u001b[0m                 \u001b[0mmorph_settings\u001b[0m\u001b[1;33m[\u001b[0m\u001b[1;34m\"id\"\u001b[0m\u001b[1;33m]\u001b[0m \u001b[1;33m=\u001b[0m \u001b[0mstr\u001b[0m\u001b[1;33m(\u001b[0m\u001b[0muuid\u001b[0m\u001b[1;33m.\u001b[0m\u001b[0muuid4\u001b[0m\u001b[1;33m(\u001b[0m\u001b[1;33m)\u001b[0m\u001b[1;33m)\u001b[0m\u001b[1;33m\u001b[0m\u001b[1;33m\u001b[0m\u001b[0m\n",
      "\u001b[1;31mValueError\u001b[0m: Task morph `CATEGORISE` has invalid structure `['rows', 'column_names']`."
     ]
    }
   ],
   "source": [
    "# Obtenir les indices des lignes de données catégorielles\n",
    "hdi_categories = [\"HIGH HUMAN DEVELOPMENT\", \"MEDIUM HUMAN DEVELOPMENT\", \"LOW HUMAN DEVELOPMENT\"]\n",
    "rows = df[df[\"Rang_IDH\"].isin(hdi_categories)].index\n",
    "method.add_input_data_morph(_id, [\"CATEGORISE\", rows, \"HDI category\"])"
   ]
  },
  {
   "cell_type": "code",
   "execution_count": 24,
   "metadata": {},
   "outputs": [
    {
     "data": {
      "text/plain": [
       "pandas.core.indexes.numeric.Int64Index"
      ]
     },
     "execution_count": 24,
     "metadata": {},
     "output_type": "execute_result"
    }
   ],
   "source": [
    "type(rows)"
   ]
  },
  {
   "cell_type": "code",
   "execution_count": 25,
   "metadata": {},
   "outputs": [],
   "source": [
    "method.add_input_data_morph(_id, [\"CATEGORISE\", list(rows), \"HDI category\"])"
   ]
  },
  {
   "cell_type": "code",
   "execution_count": 26,
   "metadata": {},
   "outputs": [
    {
     "data": {
      "text/html": [
       "<div>\n",
       "<style scoped>\n",
       "    .dataframe tbody tr th:only-of-type {\n",
       "        vertical-align: middle;\n",
       "    }\n",
       "\n",
       "    .dataframe tbody tr th {\n",
       "        vertical-align: top;\n",
       "    }\n",
       "\n",
       "    .dataframe thead th {\n",
       "        text-align: right;\n",
       "    }\n",
       "</style>\n",
       "<table border=\"1\" class=\"dataframe\">\n",
       "  <thead>\n",
       "    <tr style=\"text-align: right;\">\n",
       "      <th></th>\n",
       "      <th>Rang_IDH</th>\n",
       "      <th>Country</th>\n",
       "      <th>Reference 1</th>\n",
       "      <th>Survey_year</th>\n",
       "      <th>Birth_attended_Poor</th>\n",
       "      <th>Birth_attended_Rich</th>\n",
       "      <th>One-year-olds  immunized_Poor</th>\n",
       "      <th>Reference 2</th>\n",
       "      <th>One-year-olds  immunized_Rich</th>\n",
       "      <th>Reference 3</th>\n",
       "      <th>...</th>\n",
       "      <th>Child_underheight_ Rich</th>\n",
       "      <th>IMR_Poor</th>\n",
       "      <th>Reference 4</th>\n",
       "      <th>IMR_Rich</th>\n",
       "      <th>Reference 5</th>\n",
       "      <th>Under5_MR_Poor</th>\n",
       "      <th>Reference 6</th>\n",
       "      <th>Under5_MR_Rich</th>\n",
       "      <th>Reference 7</th>\n",
       "      <th>HDI category</th>\n",
       "    </tr>\n",
       "  </thead>\n",
       "  <tbody>\n",
       "    <tr>\n",
       "      <th>13</th>\n",
       "      <td>70</td>\n",
       "      <td>Brazil</td>\n",
       "      <td>NaN</td>\n",
       "      <td>1996</td>\n",
       "      <td>72</td>\n",
       "      <td>99</td>\n",
       "      <td>57</td>\n",
       "      <td>NaN</td>\n",
       "      <td>74</td>\n",
       "      <td>NaN</td>\n",
       "      <td>...</td>\n",
       "      <td>2</td>\n",
       "      <td>83</td>\n",
       "      <td>NaN</td>\n",
       "      <td>29</td>\n",
       "      <td>NaN</td>\n",
       "      <td>99</td>\n",
       "      <td>NaN</td>\n",
       "      <td>33</td>\n",
       "      <td>NaN</td>\n",
       "      <td>HIGH HUMAN DEVELOPMENT</td>\n",
       "    </tr>\n",
       "    <tr>\n",
       "      <th>15</th>\n",
       "      <td>73</td>\n",
       "      <td>Kazakhstan</td>\n",
       "      <td>NaN</td>\n",
       "      <td>1999</td>\n",
       "      <td>99</td>\n",
       "      <td>99</td>\n",
       "      <td>69</td>\n",
       "      <td>NaN</td>\n",
       "      <td>62</td>\n",
       "      <td>c</td>\n",
       "      <td>...</td>\n",
       "      <td>8</td>\n",
       "      <td>68</td>\n",
       "      <td>NaN</td>\n",
       "      <td>42</td>\n",
       "      <td>NaN</td>\n",
       "      <td>82</td>\n",
       "      <td>NaN</td>\n",
       "      <td>45</td>\n",
       "      <td>NaN</td>\n",
       "      <td>MEDIUM HUMAN DEVELOPMENT</td>\n",
       "    </tr>\n",
       "    <tr>\n",
       "      <th>16</th>\n",
       "      <td>75</td>\n",
       "      <td>Colombia</td>\n",
       "      <td>NaN</td>\n",
       "      <td>2005</td>\n",
       "      <td>72</td>\n",
       "      <td>99</td>\n",
       "      <td>47</td>\n",
       "      <td>NaN</td>\n",
       "      <td>72</td>\n",
       "      <td>NaN</td>\n",
       "      <td>...</td>\n",
       "      <td>3</td>\n",
       "      <td>32</td>\n",
       "      <td>NaN</td>\n",
       "      <td>14</td>\n",
       "      <td>NaN</td>\n",
       "      <td>39</td>\n",
       "      <td>NaN</td>\n",
       "      <td>16</td>\n",
       "      <td>NaN</td>\n",
       "      <td>MEDIUM HUMAN DEVELOPMENT</td>\n",
       "    </tr>\n",
       "    <tr>\n",
       "      <th>17</th>\n",
       "      <td>78</td>\n",
       "      <td>Thailand</td>\n",
       "      <td>d</td>\n",
       "      <td>2005-06</td>\n",
       "      <td>93</td>\n",
       "      <td>100</td>\n",
       "      <td>92</td>\n",
       "      <td>e</td>\n",
       "      <td>86</td>\n",
       "      <td>e</td>\n",
       "      <td>...</td>\n",
       "      <td>7</td>\n",
       "      <td>..</td>\n",
       "      <td>NaN</td>\n",
       "      <td>..</td>\n",
       "      <td>NaN</td>\n",
       "      <td>..</td>\n",
       "      <td>NaN</td>\n",
       "      <td>..</td>\n",
       "      <td>NaN</td>\n",
       "      <td>MEDIUM HUMAN DEVELOPMENT</td>\n",
       "    </tr>\n",
       "    <tr>\n",
       "      <th>18</th>\n",
       "      <td>79</td>\n",
       "      <td>Dominican Republic</td>\n",
       "      <td>NaN</td>\n",
       "      <td>1996</td>\n",
       "      <td>89</td>\n",
       "      <td>98</td>\n",
       "      <td>34</td>\n",
       "      <td>NaN</td>\n",
       "      <td>47</td>\n",
       "      <td>NaN</td>\n",
       "      <td>...</td>\n",
       "      <td>2</td>\n",
       "      <td>67</td>\n",
       "      <td>NaN</td>\n",
       "      <td>23</td>\n",
       "      <td>NaN</td>\n",
       "      <td>90</td>\n",
       "      <td>NaN</td>\n",
       "      <td>27</td>\n",
       "      <td>NaN</td>\n",
       "      <td>MEDIUM HUMAN DEVELOPMENT</td>\n",
       "    </tr>\n",
       "  </tbody>\n",
       "</table>\n",
       "<p>5 rows × 21 columns</p>\n",
       "</div>"
      ],
      "text/plain": [
       "   Rang_IDH             Country Reference 1 Survey_year Birth_attended_Poor  \\\n",
       "13       70              Brazil         NaN        1996                  72   \n",
       "15       73          Kazakhstan         NaN        1999                  99   \n",
       "16       75            Colombia         NaN        2005                  72   \n",
       "17       78            Thailand           d     2005-06                  93   \n",
       "18       79  Dominican Republic         NaN        1996                  89   \n",
       "\n",
       "   Birth_attended_Rich One-year-olds  immunized_Poor Reference 2  \\\n",
       "13                  99                            57         NaN   \n",
       "15                  99                            69         NaN   \n",
       "16                  99                            47         NaN   \n",
       "17                 100                            92           e   \n",
       "18                  98                            34         NaN   \n",
       "\n",
       "   One-year-olds  immunized_Rich Reference 3  ... Child_underheight_ Rich  \\\n",
       "13                            74         NaN  ...                       2   \n",
       "15                            62           c  ...                       8   \n",
       "16                            72         NaN  ...                       3   \n",
       "17                            86           e  ...                       7   \n",
       "18                            47         NaN  ...                       2   \n",
       "\n",
       "   IMR_Poor Reference 4 IMR_Rich Reference 5 Under5_MR_Poor Reference 6  \\\n",
       "13       83         NaN       29         NaN             99         NaN   \n",
       "15       68         NaN       42         NaN             82         NaN   \n",
       "16       32         NaN       14         NaN             39         NaN   \n",
       "17       ..         NaN       ..         NaN             ..         NaN   \n",
       "18       67         NaN       23         NaN             90         NaN   \n",
       "\n",
       "   Under5_MR_Rich Reference 7              HDI category  \n",
       "13             33         NaN    HIGH HUMAN DEVELOPMENT  \n",
       "15             45         NaN  MEDIUM HUMAN DEVELOPMENT  \n",
       "16             16         NaN  MEDIUM HUMAN DEVELOPMENT  \n",
       "17             ..         NaN  MEDIUM HUMAN DEVELOPMENT  \n",
       "18             27         NaN  MEDIUM HUMAN DEVELOPMENT  \n",
       "\n",
       "[5 rows x 21 columns]"
      ]
     },
     "execution_count": 26,
     "metadata": {},
     "output_type": "execute_result"
    }
   ],
   "source": [
    "df = method.input_dataframe(_id)\n",
    "df.head()"
   ]
  },
  {
   "cell_type": "code",
   "execution_count": 27,
   "metadata": {},
   "outputs": [],
   "source": [
    "# Sélectionnez toutes les colonnes à \"melt\"\n",
    "columns = [\n",
    "    \"Rang_IDH\",\n",
    "    \"Country\",\n",
    "    \"Survey_year\",\n",
    "    \"Birth_attended_Poor\",\n",
    "    \"Birth_attended_Rich\",\n",
    "    \"One-year-olds  immunized_Poor\",\n",
    "    \"One-year-olds  immunized_Rich\",\n",
    "    \"Child_underheight_ Poor\",\n",
    "    \"Child_underheight_ Rich\",\n",
    "    \"IMR_Poor\",\n",
    "    \"IMR_Rich\",\n",
    "    \"Under5_MR_Poor\",\n",
    "    \"Under5_MR_Rich\",\n",
    "]\n",
    "method.add_input_data_morph(_id, [\"MELT\", columns, [\"Indicator Name\", \"Indicator Value\"]])"
   ]
  },
  {
   "cell_type": "code",
   "execution_count": 28,
   "metadata": {},
   "outputs": [],
   "source": [
    "columns = [\n",
    "    \"Reference 1\",\n",
    "    \"Reference 2\",\n",
    "    \"Reference 3\",\n",
    "    \"Reference 4\",\n",
    "    \"Reference 5\",\n",
    "    \"Reference 6\",\n",
    "    \"Reference 7\"\n",
    "]\n",
    "method.add_input_data_morph(_id, [\"MELT\", columns, [\"Reference Name\", \"Reference\"]])"
   ]
  },
  {
   "cell_type": "code",
   "execution_count": 29,
   "metadata": {},
   "outputs": [],
   "source": [
    "method.add_input_data_morph(_id, [\"DEBLANK\"])"
   ]
  },
  {
   "cell_type": "code",
   "execution_count": 30,
   "metadata": {},
   "outputs": [
    {
     "data": {
      "text/html": [
       "<div>\n",
       "<style scoped>\n",
       "    .dataframe tbody tr th:only-of-type {\n",
       "        vertical-align: middle;\n",
       "    }\n",
       "\n",
       "    .dataframe tbody tr th {\n",
       "        vertical-align: top;\n",
       "    }\n",
       "\n",
       "    .dataframe thead th {\n",
       "        text-align: right;\n",
       "    }\n",
       "</style>\n",
       "<table border=\"1\" class=\"dataframe\">\n",
       "  <thead>\n",
       "    <tr style=\"text-align: right;\">\n",
       "      <th></th>\n",
       "      <th>Indicator Value</th>\n",
       "      <th>Indicator Name</th>\n",
       "      <th>HDI category</th>\n",
       "      <th>Reference Name</th>\n",
       "      <th>Reference</th>\n",
       "    </tr>\n",
       "  </thead>\n",
       "  <tbody>\n",
       "    <tr>\n",
       "      <th>0</th>\n",
       "      <td>70</td>\n",
       "      <td>Rang_IDH</td>\n",
       "      <td>HIGH HUMAN DEVELOPMENT</td>\n",
       "      <td>Reference 1</td>\n",
       "      <td>NaN</td>\n",
       "    </tr>\n",
       "    <tr>\n",
       "      <th>1</th>\n",
       "      <td>73</td>\n",
       "      <td>Rang_IDH</td>\n",
       "      <td>MEDIUM HUMAN DEVELOPMENT</td>\n",
       "      <td>Reference 1</td>\n",
       "      <td>NaN</td>\n",
       "    </tr>\n",
       "    <tr>\n",
       "      <th>2</th>\n",
       "      <td>75</td>\n",
       "      <td>Rang_IDH</td>\n",
       "      <td>MEDIUM HUMAN DEVELOPMENT</td>\n",
       "      <td>Reference 1</td>\n",
       "      <td>NaN</td>\n",
       "    </tr>\n",
       "    <tr>\n",
       "      <th>3</th>\n",
       "      <td>78</td>\n",
       "      <td>Rang_IDH</td>\n",
       "      <td>MEDIUM HUMAN DEVELOPMENT</td>\n",
       "      <td>Reference 1</td>\n",
       "      <td>d</td>\n",
       "    </tr>\n",
       "    <tr>\n",
       "      <th>4</th>\n",
       "      <td>79</td>\n",
       "      <td>Rang_IDH</td>\n",
       "      <td>MEDIUM HUMAN DEVELOPMENT</td>\n",
       "      <td>Reference 1</td>\n",
       "      <td>NaN</td>\n",
       "    </tr>\n",
       "  </tbody>\n",
       "</table>\n",
       "</div>"
      ],
      "text/plain": [
       "  Indicator Value Indicator Name              HDI category Reference Name  \\\n",
       "0              70       Rang_IDH    HIGH HUMAN DEVELOPMENT    Reference 1   \n",
       "1              73       Rang_IDH  MEDIUM HUMAN DEVELOPMENT    Reference 1   \n",
       "2              75       Rang_IDH  MEDIUM HUMAN DEVELOPMENT    Reference 1   \n",
       "3              78       Rang_IDH  MEDIUM HUMAN DEVELOPMENT    Reference 1   \n",
       "4              79       Rang_IDH  MEDIUM HUMAN DEVELOPMENT    Reference 1   \n",
       "\n",
       "  Reference  \n",
       "0       NaN  \n",
       "1       NaN  \n",
       "2       NaN  \n",
       "3         d  \n",
       "4       NaN  "
      ]
     },
     "execution_count": 30,
     "metadata": {},
     "output_type": "execute_result"
    }
   ],
   "source": [
    "df = method.input_dataframe(_id)\n",
    "df.head()"
   ]
  },
  {
   "cell_type": "code",
   "execution_count": 31,
   "metadata": {},
   "outputs": [
    {
     "name": "stdout",
     "output_type": "stream",
     "text": [
      "\n",
      "`merge` will join, in order from right to left, your input data on a common column.\n",
      "\n",
      "To add input data, where `input_data` is a filename, or list of filenames:\n",
      "\n",
      "\t>>> method.add_input_data(input_data)\n",
      "\n",
      "To remove input data, where `id` is the unique id for that input data:\n",
      "\n",
      "\t>>> method.remove_input_data(id)\n",
      "\n",
      "Prepare an `order_and_key` list, where each dict in the list has:\n",
      "\n",
      "\t{{id: input_data id, key: column_name for merge}}\n",
      "\n",
      "Run the merge by calling (and, optionally - if you need to overwrite an existing merge - setting\n",
      "`overwrite_working=True`):\n",
      "\n",
      "\t>>> method.merge(order_and_key, overwrite_working=True)\n",
      "\n",
      "To view your existing `input_data`:\n",
      "\n",
      "\t>>> method.input_data\n",
      "\n",
      "\n",
      "Data id: 81a21b07-7f31-4fd6-b57a-a0c928041362\n",
      "Original source: C:/Users/AUDREY/sbc4d/HDR 2007-2008 Table 08.xlsx\n",
      "\n",
      "====  ============  =================================  ============  ============  ============  ============  ============  ============  ============  ============  =============  =============  =============  =============  =============  =============  =============  =============  =============  =============  =============  =============  =============  =============  =============\n",
      "  ..    Unnamed: 0  Unnamed: 1                           Unnamed: 2    Unnamed: 3    Unnamed: 4    Unnamed: 5    Unnamed: 6    Unnamed: 7    Unnamed: 8    Unnamed: 9    Unnamed: 10    Unnamed: 11    Unnamed: 12    Unnamed: 13    Unnamed: 14    Unnamed: 15    Unnamed: 16    Unnamed: 17    Unnamed: 18    Unnamed: 19    Unnamed: 20    Unnamed: 21    Unnamed: 22    Unnamed: 23    Unnamed: 24\n",
      "====  ============  =================================  ============  ============  ============  ============  ============  ============  ============  ============  =============  =============  =============  =============  =============  =============  =============  =============  =============  =============  =============  =============  =============  =============  =============\n",
      "   0           nan  nan                                         nan           nan           nan           nan           nan           nan           nan           nan            nan            nan            nan            nan            nan            nan            nan            nan            nan            nan            nan            nan            nan            nan            nan\n",
      "   1           nan  …to lead a long and healthy life…           nan           nan           nan           nan           nan           nan           nan           nan            nan            nan            nan            nan            nan            nan            nan            nan            nan            nan            nan            nan            nan            nan            nan\n",
      "   2           nan  nan                                         nan           nan           nan           nan           nan           nan           nan           nan            nan            nan            nan            nan            nan            nan            nan            nan            nan            nan            nan            nan            nan            nan            nan\n",
      "====  ============  =================================  ============  ============  ============  ============  ============  ============  ============  ============  =============  =============  =============  =============  =============  =============  =============  =============  =============  =============  =============  =============  =============  =============  =============\n",
      "\n",
      "\n",
      "Current method status: `Ready to Merge`\n"
     ]
    }
   ],
   "source": [
    "print(method.help(\"merge\"))"
   ]
  },
  {
   "cell_type": "code",
   "execution_count": 32,
   "metadata": {},
   "outputs": [
    {
     "name": "stdout",
     "output_type": "stream",
     "text": [
      "Wall time: 8.12 s\n"
     ]
    }
   ],
   "source": [
    "%time method.merge(overwrite_working=True)"
   ]
  },
  {
   "cell_type": "markdown",
   "metadata": {},
   "source": [
    "### Structure"
   ]
  },
  {
   "cell_type": "code",
   "execution_count": 33,
   "metadata": {},
   "outputs": [
    {
     "name": "stdout",
     "output_type": "stream",
     "text": [
      "\n",
      "`structure` is the core of the wrangling process and is the process where you define the actions\n",
      "which must be performed to restructure your working data.\n",
      "\n",
      "Create a list of methods of the form:\n",
      "\n",
      "\t{\n",
      "\t\t\"schema_field1\": [\"action\", \"column_name1\", [\"action\", \"column_name2\"]],\n",
      "\t\t\"schema_field2\": [\"action\", \"column_name1\", \"modifier\", [\"action\", \"column_name2\"]],\n",
      "\t}\n",
      "\n",
      "The format for defining a `structure` is as follows::\n",
      "\n",
      "\t[action, column_name, [action, column_name]]\n",
      "\n",
      "e.g.::\n",
      "\n",
      "\t[\"CATEGORISE\", \"+\", [\"ORDER\", \"column_1\", \"column_2\"]]\n",
      "\n",
      "This permits the creation of quite expressive wrangling structures from simple building\n",
      "blocks.\n",
      "\n",
      "The schema for this method consists of the following terms:\n",
      "\n",
      "['rang_idh', 'country', 'survey_year', 'hdi_category', 'indicator_name', 'reference', 'values']\n",
      "\n",
      "The actions:\n",
      "\n",
      "['CALCULATE', 'CATEGORISE', 'JOIN', 'NEW', 'ORDER', 'ORDER_NEW', 'ORDER_OLD', 'RENAME']\n",
      "\n",
      "The columns from your working data:\n",
      "\n",
      "['Indicator Value', 'Indicator Name', 'HDI category', 'Reference Name', 'Reference']\n",
      "\n",
      "\n",
      "Data id: working_07370f2c-c72a-499a-8b55-4b5c5399c2dc\n",
      "Original source: method.input_data\n",
      "\n",
      "====  =================  ================  ========================  ================  ===========\n",
      "  ..    Indicator Value  Indicator Name    HDI category              Reference Name      Reference\n",
      "====  =================  ================  ========================  ================  ===========\n",
      "   0                 70  Rang_IDH          HIGH HUMAN DEVELOPMENT    Reference 1               nan\n",
      "   1                 73  Rang_IDH          MEDIUM HUMAN DEVELOPMENT  Reference 1               nan\n",
      "   2                 75  Rang_IDH          MEDIUM HUMAN DEVELOPMENT  Reference 1               nan\n",
      "====  =================  ================  ========================  ================  ===========\n",
      "\n",
      "\n",
      "Current method status: `Ready to Structure`\n"
     ]
    }
   ],
   "source": [
    "print(method.help(\"structure\"))"
   ]
  },
  {
   "cell_type": "code",
   "execution_count": 34,
   "metadata": {},
   "outputs": [],
   "source": [
    "structure = {\n",
    "    \"country_name\": [\"RENAME\", \"Country\"],\n",
    "    \"year\":[\"RENAME\", \"Survey_year\"],\n",
    "    \"hdi_category\": [\"RENAME\", \"HDI category\"],\n",
    "    \"indicator_name\": [\"RENAME\", \"Indicator Name\"],\n",
    "    \"reference\": [\"RENAME\", \"Reference\"],\n",
    "    \"values\": [\"RENAME\", \"Indicator Value\"]\n",
    "}    \n",
    "# Notez le \"**\" au début du nom du paramètre\n",
    "# Ceci \"dépaquette\"  le dictionnaire de sorte que tous les termes soient visibles pour la fonction\n",
    "#method.set_structure(**structure)"
   ]
  },
  {
   "cell_type": "code",
   "execution_count": 35,
   "metadata": {},
   "outputs": [
    {
     "ename": "ValueError",
     "evalue": "Term `country_name` not a valid field for this schema.",
     "output_type": "error",
     "traceback": [
      "\u001b[1;31m---------------------------------------------------------------------------\u001b[0m",
      "\u001b[1;31mValueError\u001b[0m                                Traceback (most recent call last)",
      "\u001b[1;32m<ipython-input-35-e58ae0fa009b>\u001b[0m in \u001b[0;36m<module>\u001b[1;34m\u001b[0m\n\u001b[1;32m----> 1\u001b[1;33m \u001b[0mmethod\u001b[0m\u001b[1;33m.\u001b[0m\u001b[0mset_structure\u001b[0m\u001b[1;33m(\u001b[0m\u001b[1;33m**\u001b[0m\u001b[0mstructure\u001b[0m\u001b[1;33m)\u001b[0m\u001b[1;33m\u001b[0m\u001b[1;33m\u001b[0m\u001b[0m\n\u001b[0m",
      "\u001b[1;32m~\\anaconda\\pythonw\\envs\\Datascience\\lib\\site-packages\\whyqd\\method\\method.py\u001b[0m in \u001b[0;36mset_structure\u001b[1;34m(self, **kwargs)\u001b[0m\n\u001b[0;32m    473\u001b[0m                         \u001b[1;32mif\u001b[0m \u001b[0mfield_name\u001b[0m \u001b[1;32mnot\u001b[0m \u001b[1;32min\u001b[0m \u001b[0mself\u001b[0m\u001b[1;33m.\u001b[0m\u001b[0mall_field_names\u001b[0m\u001b[1;33m:\u001b[0m\u001b[1;33m\u001b[0m\u001b[1;33m\u001b[0m\u001b[0m\n\u001b[0;32m    474\u001b[0m                                 \u001b[0me\u001b[0m \u001b[1;33m=\u001b[0m \u001b[1;34m\"Term `{}` not a valid field for this schema.\"\u001b[0m\u001b[1;33m.\u001b[0m\u001b[0mformat\u001b[0m\u001b[1;33m(\u001b[0m\u001b[0mfield_name\u001b[0m\u001b[1;33m)\u001b[0m\u001b[1;33m\u001b[0m\u001b[1;33m\u001b[0m\u001b[0m\n\u001b[1;32m--> 475\u001b[1;33m                                 \u001b[1;32mraise\u001b[0m \u001b[0mValueError\u001b[0m\u001b[1;33m(\u001b[0m\u001b[0me\u001b[0m\u001b[1;33m)\u001b[0m\u001b[1;33m\u001b[0m\u001b[1;33m\u001b[0m\u001b[0m\n\u001b[0m\u001b[0;32m    476\u001b[0m                         \u001b[0mschema_field\u001b[0m \u001b[1;33m=\u001b[0m \u001b[0mself\u001b[0m\u001b[1;33m.\u001b[0m\u001b[0mfield\u001b[0m\u001b[1;33m(\u001b[0m\u001b[0mfield_name\u001b[0m\u001b[1;33m)\u001b[0m\u001b[1;33m\u001b[0m\u001b[1;33m\u001b[0m\u001b[0m\n\u001b[0;32m    477\u001b[0m                         \u001b[0mschema_field\u001b[0m\u001b[1;33m[\u001b[0m\u001b[1;34m\"structure\"\u001b[0m\u001b[1;33m]\u001b[0m \u001b[1;33m=\u001b[0m \u001b[0mself\u001b[0m\u001b[1;33m.\u001b[0m\u001b[0mset_field_structure\u001b[0m\u001b[1;33m(\u001b[0m\u001b[0mkwargs\u001b[0m\u001b[1;33m[\u001b[0m\u001b[0mfield_name\u001b[0m\u001b[1;33m]\u001b[0m\u001b[1;33m)\u001b[0m\u001b[1;33m\u001b[0m\u001b[1;33m\u001b[0m\u001b[0m\n",
      "\u001b[1;31mValueError\u001b[0m: Term `country_name` not a valid field for this schema."
     ]
    }
   ],
   "source": [
    "method.set_structure(**structure)"
   ]
  },
  {
   "cell_type": "code",
   "execution_count": 36,
   "metadata": {},
   "outputs": [
    {
     "data": {
      "text/plain": [
       "{'country_name': ['RENAME', 'Country'],\n",
       " 'year': ['RENAME', 'Survey_year'],\n",
       " 'hdi_category': ['RENAME', 'HDI category'],\n",
       " 'indicator_name': ['RENAME', 'Indicator Name'],\n",
       " 'reference': ['RENAME', 'Reference'],\n",
       " 'values': ['RENAME', 'Indicator Value']}"
      ]
     },
     "execution_count": 36,
     "metadata": {},
     "output_type": "execute_result"
    }
   ],
   "source": [
    "structure"
   ]
  },
  {
   "cell_type": "code",
   "execution_count": null,
   "metadata": {},
   "outputs": [],
   "source": [
    "method.transform(overwrite_output=True)\n",
    "FILENAME = \"hdi_report_exercise\"\n",
    "method.save(directory, filename=FILENAME, overwrite=True)"
   ]
  },
  {
   "cell_type": "code",
   "execution_count": null,
   "metadata": {},
   "outputs": [],
   "source": [
    "method.input_data_morphs(_id)"
   ]
  },
  {
   "cell_type": "markdown",
   "metadata": {},
   "source": [
    "### Validation des données et sa signification "
   ]
  },
  {
   "cell_type": "code",
   "execution_count": null,
   "metadata": {},
   "outputs": [],
   "source": [
    "%time method.validates"
   ]
  },
  {
   "cell_type": "markdown",
   "metadata": {},
   "source": [
    "### Validation et manipulation des données"
   ]
  },
  {
   "cell_type": "code",
   "execution_count": null,
   "metadata": {},
   "outputs": [],
   "source": [
    "import pandas as pd\n",
    "import numpy as np\n",
    "\n",
    "source = \"C:/Users/AUDREY/output_9d69188e-e3a3-4005-bbf4-acfceb28d883.csv\" \n",
    "\n",
    "df = pd.read_csv(source)\n",
    "df.head()"
   ]
  },
  {
   "cell_type": "code",
   "execution_count": null,
   "metadata": {},
   "outputs": [],
   "source": [
    "df.info()"
   ]
  },
  {
   "cell_type": "code",
   "execution_count": null,
   "metadata": {},
   "outputs": [],
   "source": [
    "from pandas_schema import Column, Schema\n",
    "from pandas_schema.validation import LeadingWhitespaceValidation, TrailingWhitespaceValidation, IsDtypeValidation, InListValidation\n",
    "\n",
    "# Nous ne testerons que ces colonnes\n",
    "columns = [\"country_name\", \"hdi_category\", \"values\"]\n",
    "# Et ces catégories\n",
    "hdi_categories = [\"HIGH HUMAN DEVELOPMENT\", \"MEDIUM HUMAN DEVELOPMENT\", \"LOW HUMAN DEVELOPMENT\"]\n",
    "\n",
    "schema = Schema([\n",
    "    Column(\"country_name\", [LeadingWhitespaceValidation(), TrailingWhitespaceValidation()]),\n",
    "    Column(\"hdi_category\", [InListValidation(hdi_categories)]),\n",
    "    Column(\"values\", [IsDtypeValidation(np.dtype(float)), IsDtypeValidation(np.dtype(int))])\n",
    "])\n",
    "\n",
    "errors = schema.validate(df[columns])\n",
    "\n",
    "print(F\"Nombre d'erreurs :  {len(errors)}\")\n",
    "# Juste les 10 premiers\n",
    "for error in errors[:10]:\n",
    "    print(error)"
   ]
  },
  {
   "cell_type": "code",
   "execution_count": null,
   "metadata": {},
   "outputs": [],
   "source": [
    "for l in method.citation.split(\",\"):\n",
    "    print(l)"
   ]
  }
 ],
 "metadata": {
  "kernelspec": {
   "display_name": "Python 3",
   "language": "python",
   "name": "python3"
  },
  "language_info": {
   "codemirror_mode": {
    "name": "ipython",
    "version": 3
   },
   "file_extension": ".py",
   "mimetype": "text/x-python",
   "name": "python",
   "nbconvert_exporter": "python",
   "pygments_lexer": "ipython3",
   "version": "3.7.7"
  }
 },
 "nbformat": 4,
 "nbformat_minor": 4
}
